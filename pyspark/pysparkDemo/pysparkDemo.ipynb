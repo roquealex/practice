{
 "cells": [
  {
   "cell_type": "markdown",
   "metadata": {},
   "source": [
    "## Pyspark Demo"
   ]
  },
  {
   "cell_type": "markdown",
   "metadata": {},
   "source": [
    "The objective is to see if all the libraries are present to work with the wind project."
   ]
  },
  {
   "cell_type": "code",
   "execution_count": 1,
   "metadata": {},
   "outputs": [],
   "source": [
    "%matplotlib inline\n",
    "\n",
    "# Profiling:\n",
    "import time\n",
    "startTimestamp = time.time()\n",
    "\n",
    "# Dataframe:\n",
    "import pandas as pd\n",
    "from pyspark.sql.functions import *\n",
    "from pyspark.sql.window import Window\n",
    "from pyspark.sql.dataframe import DataFrame\n",
    "\n",
    "# Daylight UDF:\n",
    "import astral\n",
    "from datetime import datetime\n",
    "from pyspark.sql.types import TimestampType\n",
    "\n",
    "# Plot related\n",
    "import matplotlib.pyplot as plt\n",
    "import calendar\n",
    "import calmap\n",
    "\n",
    "# Math\n",
    "import math\n",
    "import numpy as np\n",
    "\n",
    "# Access of env vars\n",
    "import os"
   ]
  },
  {
   "cell_type": "markdown",
   "metadata": {},
   "source": [
    "Version"
   ]
  },
  {
   "cell_type": "code",
   "execution_count": 2,
   "metadata": {},
   "outputs": [],
   "source": [
    "from distutils.version import StrictVersion\n",
    "assert StrictVersion(spark.version) >= StrictVersion('2.4.0'), \\\n",
    "\"Notebook requires spark 2.4.0 or above\""
   ]
  },
  {
   "cell_type": "markdown",
   "metadata": {},
   "source": [
    "Data bricks env?"
   ]
  },
  {
   "cell_type": "code",
   "execution_count": 3,
   "metadata": {},
   "outputs": [],
   "source": [
    "DATABRICKS_ENV = 'DATABRICKS_RUNTIME_VERSION' in os.environ.keys()"
   ]
  },
  {
   "cell_type": "markdown",
   "metadata": {},
   "source": [
    "Access to spark conf and basic location data"
   ]
  },
  {
   "cell_type": "code",
   "execution_count": 4,
   "metadata": {},
   "outputs": [],
   "source": [
    "pwsID = 'IYUCATNT2'\n",
    "pwsTz = 'America/Merida'\n",
    "sensorLoc = astral.Location((\"Telchac\", \"Mexico\", 21.341108, -89.305756, pwsTz, 0))\n",
    "spark.conf.set(\"spark.sql.session.timeZone\", pwsTz)"
   ]
  },
  {
   "cell_type": "markdown",
   "metadata": {},
   "source": [
    "Basemap, to update in the future to cartopy"
   ]
  },
  {
   "cell_type": "code",
   "execution_count": 5,
   "metadata": {},
   "outputs": [
    {
     "ename": "ModuleNotFoundError",
     "evalue": "No module named 'mpl_toolkits.basemap'",
     "output_type": "error",
     "traceback": [
      "\u001b[0;31m---------------------------------------------------------------------------\u001b[0m",
      "\u001b[0;31mModuleNotFoundError\u001b[0m                       Traceback (most recent call last)",
      "\u001b[0;32m<ipython-input-5-f2a08ae2a329>\u001b[0m in \u001b[0;36m<module>\u001b[0;34m\u001b[0m\n\u001b[1;32m      1\u001b[0m \u001b[0;32mif\u001b[0m \u001b[0;32mnot\u001b[0m \u001b[0mDATABRICKS_ENV\u001b[0m \u001b[0;34m:\u001b[0m\u001b[0;34m\u001b[0m\u001b[0m\n\u001b[0;32m----> 2\u001b[0;31m     \u001b[0;32mfrom\u001b[0m \u001b[0mmpl_toolkits\u001b[0m\u001b[0;34m.\u001b[0m\u001b[0mbasemap\u001b[0m \u001b[0;32mimport\u001b[0m \u001b[0mBasemap\u001b[0m\u001b[0;34m\u001b[0m\u001b[0m\n\u001b[0m\u001b[1;32m      3\u001b[0m     \u001b[0mfig\u001b[0m\u001b[0;34m,\u001b[0m \u001b[0max\u001b[0m \u001b[0;34m=\u001b[0m \u001b[0mplt\u001b[0m\u001b[0;34m.\u001b[0m\u001b[0msubplots\u001b[0m\u001b[0;34m(\u001b[0m\u001b[0mfigsize\u001b[0m\u001b[0;34m=\u001b[0m\u001b[0;34m(\u001b[0m\u001b[0;36m12\u001b[0m\u001b[0;34m,\u001b[0m \u001b[0;36m9\u001b[0m\u001b[0;34m)\u001b[0m\u001b[0;34m)\u001b[0m\u001b[0;34m\u001b[0m\u001b[0m\n\u001b[1;32m      4\u001b[0m     mp = Basemap(projection='lcc', resolution=None, width=4E6, height=3E6,\n\u001b[1;32m      5\u001b[0m                  lat_0=sensorLoc.latitude, lon_0=sensorLoc.longitude, ax=ax)\n",
      "\u001b[0;31mModuleNotFoundError\u001b[0m: No module named 'mpl_toolkits.basemap'"
     ]
    }
   ],
   "source": [
    "if not DATABRICKS_ENV :\n",
    "    from mpl_toolkits.basemap import Basemap\n",
    "    fig, ax = plt.subplots(figsize=(12, 9))\n",
    "    mp = Basemap(projection='lcc', resolution=None, width=4E6, height=3E6,\n",
    "                 lat_0=sensorLoc.latitude, lon_0=sensorLoc.longitude, ax=ax)\n",
    "    mp.shadedrelief(scale=0.5)\n",
    "    x, y = mp(sensorLoc.longitude, sensorLoc.latitude)\n",
    "    ax.plot(x, y,'k^', markersize=8)\n",
    "    ax.text(x, y, ' '+pwsID, fontsize=12);\n",
    "    ax.set_title('Location of Weather Station', fontsize=14)"
   ]
  }
 ],
 "metadata": {
  "kernelspec": {
   "display_name": "Python 3",
   "language": "python",
   "name": "python3"
  },
  "language_info": {
   "codemirror_mode": {
    "name": "ipython",
    "version": 3
   },
   "file_extension": ".py",
   "mimetype": "text/x-python",
   "name": "python",
   "nbconvert_exporter": "python",
   "pygments_lexer": "ipython3",
   "version": "3.6.6"
  }
 },
 "nbformat": 4,
 "nbformat_minor": 2
}
