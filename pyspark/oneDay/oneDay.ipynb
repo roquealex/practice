{
 "cells": [
  {
   "cell_type": "markdown",
   "metadata": {},
   "source": [
    "## One Day Analysis\n",
    "\n",
    "This is a sketch of how to do a single day analysis using pyspark mainly based on the scala source code\n",
    "\n",
    "### Libraries"
   ]
  },
  {
   "cell_type": "code",
   "execution_count": 1,
   "metadata": {},
   "outputs": [],
   "source": [
    "import pandas as pd\n",
    "from pyspark.sql.functions import *\n",
    "from pyspark.sql.window import Window\n",
    "#from pyspark.sql import Row"
   ]
  },
  {
   "cell_type": "markdown",
   "metadata": {},
   "source": [
    "### PWS Information and Globals\n",
    "\n",
    "This is the infromation of the sensor that performed the measurements. The ID is the one given by wunderground. In this case we use only cinvestav telchac."
   ]
  },
  {
   "cell_type": "code",
   "execution_count": 2,
   "metadata": {},
   "outputs": [],
   "source": [
    "#PWS info\n",
    "pwsID = 'IYUCATNT2'\n",
    "pwsTz = 'America/Merida'\n"
   ]
  },
  {
   "cell_type": "markdown",
   "metadata": {},
   "source": [
    "### Reading the dataset"
   ]
  },
  {
   "cell_type": "code",
   "execution_count": 3,
   "metadata": {},
   "outputs": [
    {
     "name": "stdout",
     "output_type": "stream",
     "text": [
      "root\n",
      " |-- Time: string (nullable = true)\n",
      " |-- TemperatureF: string (nullable = true)\n",
      " |-- DewpointF: string (nullable = true)\n",
      " |-- PressureIn: string (nullable = true)\n",
      " |-- WindDirection: string (nullable = true)\n",
      " |-- WindDirectionDegrees: string (nullable = true)\n",
      " |-- WindSpeedMPH: string (nullable = true)\n",
      " |-- WindSpeedGustMPH: string (nullable = true)\n",
      " |-- Humidity: string (nullable = true)\n",
      " |-- HourlyPrecipIn: string (nullable = true)\n",
      " |-- Conditions: string (nullable = true)\n",
      " |-- Clouds: string (nullable = true)\n",
      " |-- dailyrainin: string (nullable = true)\n",
      " |-- SolarRadiationWatts/m^2: string (nullable = true)\n",
      " |-- SoftwareType: string (nullable = true)\n",
      " |-- DateUTC: string (nullable = true)\n",
      "\n",
      "+-------------------+------------+---------+----------+-------------+--------------------+------------+----------------+--------+--------------+----------+------+-----------+-----------------------+-------------------+-------------------+\n",
      "|               Time|TemperatureF|DewpointF|PressureIn|WindDirection|WindDirectionDegrees|WindSpeedMPH|WindSpeedGustMPH|Humidity|HourlyPrecipIn|Conditions|Clouds|dailyrainin|SolarRadiationWatts/m^2|       SoftwareType|            DateUTC|\n",
      "+-------------------+------------+---------+----------+-------------+--------------------+------------+----------------+--------+--------------+----------+------+-----------+-----------------------+-------------------+-------------------+\n",
      "|2012-12-22 00:00:00|        71.5|     60.4|     30.23|           NE|                  51|        21.0|            21.0|      68|          0.00|      null|  null|       0.00|                      0|Wunderground v.1.15|2012-12-22 06:00:00|\n",
      "|2012-12-22 00:05:00|        71.5|     61.2|     30.22|           NE|                  51|        21.0|            21.0|      70|          0.00|      null|  null|       0.00|                      0|Wunderground v.1.15|2012-12-22 06:05:00|\n",
      "|2012-12-22 00:10:00|        71.5|     60.8|     30.22|           NE|                  56|        20.0|            20.0|      69|          0.00|      null|  null|       0.00|                      0|Wunderground v.1.15|2012-12-22 06:10:00|\n",
      "|2012-12-22 00:20:00|        71.5|     60.8|     30.22|           NE|                  40|        21.0|            21.0|      69|          0.00|      null|  null|       0.00|                      0|Wunderground v.1.15|2012-12-22 06:20:00|\n",
      "|2012-12-22 00:25:00|        71.5|     60.4|     30.22|           NE|                  55|        21.0|            21.0|      68|          0.00|      null|  null|       0.00|                      0|Wunderground v.1.15|2012-12-22 06:25:00|\n",
      "|2012-12-22 00:35:00|        71.5|     60.4|     30.23|          NNE|                  33|        20.0|            25.0|      68|          0.00|      null|  null|       0.00|                      0|Wunderground v.1.15|2012-12-22 06:35:00|\n",
      "|2012-12-22 00:40:00|        71.5|     59.5|     30.22|           NE|                  48|        21.0|            21.0|      66|          0.00|      null|  null|       0.00|                      0|Wunderground v.1.15|2012-12-22 06:40:00|\n",
      "|2012-12-22 00:45:00|        71.6|     59.6|     30.22|           NE|                  46|        21.0|            21.0|      66|          0.00|      null|  null|       0.00|                      0|Wunderground v.1.15|2012-12-22 06:45:00|\n",
      "|2012-12-22 00:50:00|        71.5|     58.7|     30.22|           NE|                  48|        19.0|            23.0|      64|          0.00|      null|  null|       0.00|                      0|Wunderground v.1.15|2012-12-22 06:50:00|\n",
      "|2012-12-22 01:00:00|        71.5|     60.8|     30.22|          ENE|                  57|        20.0|            20.0|      69|          0.00|      null|  null|       0.00|                      0|Wunderground v.1.15|2012-12-22 07:00:00|\n",
      "|2012-12-22 01:05:00|        71.5|     61.2|     30.22|           NE|                  41|        19.0|            20.0|      70|          0.00|      null|  null|       0.00|                      0|Wunderground v.1.15|2012-12-22 07:05:00|\n",
      "|2012-12-22 01:15:00|        71.2|     59.7|     30.22|           NE|                  34|        19.0|            20.0|      67|          0.00|      null|  null|       0.00|                      0|Wunderground v.1.15|2012-12-22 07:15:00|\n",
      "|2012-12-22 01:25:00|        71.3|     59.4|     30.22|           NE|                  51|        20.0|            23.0|      66|          0.00|      null|  null|       0.00|                      0|Wunderground v.1.15|2012-12-22 07:25:00|\n",
      "|2012-12-22 01:30:00|        71.3|     59.4|     30.22|          NNE|                  32|        20.0|            21.0|      66|          0.00|      null|  null|       0.00|                      0|Wunderground v.1.15|2012-12-22 07:30:00|\n",
      "|2012-12-22 01:35:00|        71.2|     60.5|     30.21|           NE|                  51|        18.0|            22.0|      69|          0.00|      null|  null|       0.00|                      0|Wunderground v.1.15|2012-12-22 07:35:00|\n",
      "|2012-12-22 01:40:00|        71.1|     59.6|     30.21|           NE|                  49|        18.0|            18.0|      67|          0.00|      null|  null|       0.00|                      0|Wunderground v.1.15|2012-12-22 07:40:00|\n",
      "|2012-12-22 01:45:00|        71.2|     60.1|     30.21|           NE|                  45|        18.0|            18.0|      68|          0.00|      null|  null|       0.00|                      0|Wunderground v.1.15|2012-12-22 07:45:00|\n",
      "|2012-12-22 01:55:00|        71.3|     60.6|     30.21|           NE|                  49|        19.0|            19.0|      69|          0.00|      null|  null|       0.00|                      0|Wunderground v.1.15|2012-12-22 07:55:00|\n",
      "|2012-12-22 02:05:00|        71.2|     60.5|     30.21|           NE|                  36|        18.0|            20.0|      69|          0.00|      null|  null|       0.00|                      0|Wunderground v.1.15|2012-12-22 08:05:00|\n",
      "|2012-12-22 02:15:00|        71.1|     59.6|     30.21|           NE|                  42|        19.0|            21.0|      67|          0.00|      null|  null|       0.00|                      0|Wunderground v.1.15|2012-12-22 08:15:00|\n",
      "+-------------------+------------+---------+----------+-------------+--------------------+------------+----------------+--------+--------------+----------+------+-----------+-----------------------+-------------------+-------------------+\n",
      "only showing top 20 rows\n",
      "\n"
     ]
    }
   ],
   "source": [
    "# Changing the default timezone for the analysis\n",
    "spark.conf.set(\"spark.sql.session.timeZone\", pwsTz)\n",
    "\n",
    "# Inferr schema creates a problem when changing the session timezone\n",
    "#    .option(\"inferSchema\",\"true\") \\\n",
    "    \n",
    "staticDataFrame = spark.read \\\n",
    "    .format(\"csv\") \\\n",
    "    .option(\"header\",\"true\") \\\n",
    "    .load(\"12/*.csv\")\n",
    "    #.load(\"IYUCATNT2-2016-04-18.csv\")\n",
    "    #.load(\"mini.csv\")\n",
    "\n",
    "staticDataFrame.printSchema()\n",
    "staticDataFrame.show()"
   ]
  },
  {
   "cell_type": "markdown",
   "metadata": {},
   "source": [
    "### Extract Timestamp and Wind\n",
    "\n",
    "Extracting only wind and time information."
   ]
  },
  {
   "cell_type": "code",
   "execution_count": 4,
   "metadata": {},
   "outputs": [
    {
     "name": "stdout",
     "output_type": "stream",
     "text": [
      "root\n",
      " |-- Time: string (nullable = true)\n",
      " |-- TS: timestamp (nullable = true)\n",
      " |-- WindDirectionDegrees: integer (nullable = true)\n",
      " |-- WindSpeedMPH: double (nullable = true)\n",
      " |-- Date: date (nullable = true)\n",
      " |-- TSEpochSec: long (nullable = true)\n",
      "\n",
      "+-------------------+-------------------+--------------------+------------+----------+----------+\n",
      "|               Time|                 TS|WindDirectionDegrees|WindSpeedMPH|      Date|TSEpochSec|\n",
      "+-------------------+-------------------+--------------------+------------+----------+----------+\n",
      "|2012-12-22 00:00:00|2012-12-22 00:00:00|                  51|        21.0|2012-12-22|1356156000|\n",
      "|2012-12-22 00:05:00|2012-12-22 00:05:00|                  51|        21.0|2012-12-22|1356156300|\n",
      "|2012-12-22 00:10:00|2012-12-22 00:10:00|                  56|        20.0|2012-12-22|1356156600|\n",
      "|2012-12-22 00:20:00|2012-12-22 00:20:00|                  40|        21.0|2012-12-22|1356157200|\n",
      "|2012-12-22 00:25:00|2012-12-22 00:25:00|                  55|        21.0|2012-12-22|1356157500|\n",
      "|2012-12-22 00:35:00|2012-12-22 00:35:00|                  33|        20.0|2012-12-22|1356158100|\n",
      "|2012-12-22 00:40:00|2012-12-22 00:40:00|                  48|        21.0|2012-12-22|1356158400|\n",
      "|2012-12-22 00:45:00|2012-12-22 00:45:00|                  46|        21.0|2012-12-22|1356158700|\n",
      "|2012-12-22 00:50:00|2012-12-22 00:50:00|                  48|        19.0|2012-12-22|1356159000|\n",
      "|2012-12-22 01:00:00|2012-12-22 01:00:00|                  57|        20.0|2012-12-22|1356159600|\n",
      "|2012-12-22 01:05:00|2012-12-22 01:05:00|                  41|        19.0|2012-12-22|1356159900|\n",
      "|2012-12-22 01:15:00|2012-12-22 01:15:00|                  34|        19.0|2012-12-22|1356160500|\n",
      "|2012-12-22 01:25:00|2012-12-22 01:25:00|                  51|        20.0|2012-12-22|1356161100|\n",
      "|2012-12-22 01:30:00|2012-12-22 01:30:00|                  32|        20.0|2012-12-22|1356161400|\n",
      "|2012-12-22 01:35:00|2012-12-22 01:35:00|                  51|        18.0|2012-12-22|1356161700|\n",
      "|2012-12-22 01:40:00|2012-12-22 01:40:00|                  49|        18.0|2012-12-22|1356162000|\n",
      "|2012-12-22 01:45:00|2012-12-22 01:45:00|                  45|        18.0|2012-12-22|1356162300|\n",
      "|2012-12-22 01:55:00|2012-12-22 01:55:00|                  49|        19.0|2012-12-22|1356162900|\n",
      "|2012-12-22 02:05:00|2012-12-22 02:05:00|                  36|        18.0|2012-12-22|1356163500|\n",
      "|2012-12-22 02:15:00|2012-12-22 02:15:00|                  42|        19.0|2012-12-22|1356164100|\n",
      "+-------------------+-------------------+--------------------+------------+----------+----------+\n",
      "only showing top 20 rows\n",
      "\n"
     ]
    }
   ],
   "source": [
    "windDF = staticDataFrame.selectExpr(\n",
    "    \"Time\",\n",
    "    \"to_timestamp(Time,'yyyy-MM-dd HH:mm:ss') as TS\",\n",
    "    \"cast(WindDirectionDegrees as integer)\",\n",
    "    \"cast(WindSpeedMPH as double)\") \\\n",
    "    .withColumn(\"Date\",col(\"TS\").cast(\"date\")) \\\n",
    "    .withColumn(\"TSEpochSec\",col(\"TS\").cast(\"long\"))\n",
    "    #\"cast(WindSpeedGustMPH as double)\")\n",
    "# Creating SQL for future analisys\n",
    "windDF.createOrReplaceTempView(\"windTable\")\n",
    "windDF.printSchema()\n",
    "windDF.show()"
   ]
  },
  {
   "cell_type": "markdown",
   "metadata": {},
   "source": [
    "### Resampling Using Interpolation\n",
    "\n",
    "We need to a ply a window function to get the next reading together with the current one in order to interpolate values between them.\n",
    "\n",
    "Drop the last row with a null lead."
   ]
  },
  {
   "cell_type": "code",
   "execution_count": 5,
   "metadata": {},
   "outputs": [],
   "source": [
    "windowSpec = Window.partitionBy(\"Date\").orderBy(\"TS\")\n",
    "\n",
    "windPairDF = windDF \\\n",
    "    .withColumn(\"nextWindDirectionDegrees\",lead(\"WindDirectionDegrees\").over(windowSpec)) \\\n",
    "    .withColumn(\"nextWindSpeedMPH\",lead(\"WindSpeedMPH\").over(windowSpec)) \\\n",
    "    .withColumn(\"nextTSEpochSec\",lead(\"TSEpochSec\").over(windowSpec)) \\\n",
    "    .dropna(subset=[\"nextTSEpochSec\"])\n",
    "\n",
    "#||      Date|TSEpochSec\n",
    "\n",
    "#windPairDF.show(100)"
   ]
  },
  {
   "cell_type": "markdown",
   "metadata": {},
   "source": [
    "#### Correction of the Next Wind Direction\n",
    "\n",
    "In case of boundary conditions between 0 and 360 degrees representing the north we will have a problem when doing interpolation. For instance interpolating values between 5 degrees and 355 degrees may take values between these twon numbers which will be incorrect. To overcome this problem we have to calculate what is the shortest angle separation between those 2 readings and then calculate the new next direction based on this.\n",
    "\n",
    "The one liner for the shortest angle was obtained from a discussion in stack overflow:\n",
    "\n",
    "Source:\n",
    "https://stackoverflow.com/questions/2708476/rotation-interpolation/14498790#14498790"
   ]
  },
  {
   "cell_type": "code",
   "execution_count": 6,
   "metadata": {},
   "outputs": [
    {
     "name": "stdout",
     "output_type": "stream",
     "text": [
      "+-------------------+-------------------+--------------------+------------+----------+----------+------------------------+----------------+--------------+-------------+---------------------------+\n",
      "|               Time|                 TS|WindDirectionDegrees|WindSpeedMPH|      Date|TSEpochSec|nextWindDirectionDegrees|nextWindSpeedMPH|nextTSEpochSec|shortestAngle|neShortWindDirectionDegrees|\n",
      "+-------------------+-------------------+--------------------+------------+----------+----------+------------------------+----------------+--------------+-------------+---------------------------+\n",
      "|2012-12-22 00:00:00|2012-12-22 00:00:00|                  51|        21.0|2012-12-22|1356156000|                      51|            21.0|    1356156300|            0|                         51|\n",
      "|2012-12-22 00:05:00|2012-12-22 00:05:00|                  51|        21.0|2012-12-22|1356156300|                      56|            20.0|    1356156600|            5|                         56|\n",
      "|2012-12-22 00:10:00|2012-12-22 00:10:00|                  56|        20.0|2012-12-22|1356156600|                      40|            21.0|    1356157200|          -16|                         40|\n",
      "|2012-12-22 00:20:00|2012-12-22 00:20:00|                  40|        21.0|2012-12-22|1356157200|                      55|            21.0|    1356157500|           15|                         55|\n",
      "|2012-12-22 00:25:00|2012-12-22 00:25:00|                  55|        21.0|2012-12-22|1356157500|                      33|            20.0|    1356158100|          -22|                         33|\n",
      "|2012-12-22 00:35:00|2012-12-22 00:35:00|                  33|        20.0|2012-12-22|1356158100|                      48|            21.0|    1356158400|           15|                         48|\n",
      "|2012-12-22 00:40:00|2012-12-22 00:40:00|                  48|        21.0|2012-12-22|1356158400|                      46|            21.0|    1356158700|           -2|                         46|\n",
      "|2012-12-22 00:45:00|2012-12-22 00:45:00|                  46|        21.0|2012-12-22|1356158700|                      48|            19.0|    1356159000|            2|                         48|\n",
      "|2012-12-22 00:50:00|2012-12-22 00:50:00|                  48|        19.0|2012-12-22|1356159000|                      57|            20.0|    1356159600|            9|                         57|\n",
      "|2012-12-22 01:00:00|2012-12-22 01:00:00|                  57|        20.0|2012-12-22|1356159600|                      41|            19.0|    1356159900|          -16|                         41|\n",
      "|2012-12-22 01:05:00|2012-12-22 01:05:00|                  41|        19.0|2012-12-22|1356159900|                      34|            19.0|    1356160500|           -7|                         34|\n",
      "|2012-12-22 01:15:00|2012-12-22 01:15:00|                  34|        19.0|2012-12-22|1356160500|                      51|            20.0|    1356161100|           17|                         51|\n",
      "|2012-12-22 01:25:00|2012-12-22 01:25:00|                  51|        20.0|2012-12-22|1356161100|                      32|            20.0|    1356161400|          -19|                         32|\n",
      "|2012-12-22 01:30:00|2012-12-22 01:30:00|                  32|        20.0|2012-12-22|1356161400|                      51|            18.0|    1356161700|           19|                         51|\n",
      "|2012-12-22 01:35:00|2012-12-22 01:35:00|                  51|        18.0|2012-12-22|1356161700|                      49|            18.0|    1356162000|           -2|                         49|\n",
      "|2012-12-22 01:40:00|2012-12-22 01:40:00|                  49|        18.0|2012-12-22|1356162000|                      45|            18.0|    1356162300|           -4|                         45|\n",
      "|2012-12-22 01:45:00|2012-12-22 01:45:00|                  45|        18.0|2012-12-22|1356162300|                      49|            19.0|    1356162900|            4|                         49|\n",
      "|2012-12-22 01:55:00|2012-12-22 01:55:00|                  49|        19.0|2012-12-22|1356162900|                      36|            18.0|    1356163500|          -13|                         36|\n",
      "|2012-12-22 02:05:00|2012-12-22 02:05:00|                  36|        18.0|2012-12-22|1356163500|                      42|            19.0|    1356164100|            6|                         42|\n",
      "|2012-12-22 02:15:00|2012-12-22 02:15:00|                  42|        19.0|2012-12-22|1356164100|                      32|            18.0|    1356164400|          -10|                         32|\n",
      "+-------------------+-------------------+--------------------+------------+----------+----------+------------------------+----------------+--------------+-------------+---------------------------+\n",
      "only showing top 20 rows\n",
      "\n"
     ]
    }
   ],
   "source": [
    "windPairFixDirDF = windPairDF \\\n",
    "    .withColumn(\"shortestAngle\",expr(\"((((nextWindDirectionDegrees-WindDirectionDegrees)%360)+540)%360)-180\")) \\\n",
    "    .withColumn(\"neShortWindDirectionDegrees\",expr(\"WindDirectionDegrees+shortestAngle\"))\n",
    "\n",
    "windPairFixDirDF.show()\n",
    "# For reference steps:\n",
    "#    .withColumn(\"diff\",expr(\"nextWindDirectionDegrees-WindDirectionDegrees\")) \\\n",
    "#    .withColumn(\"mod\",expr(\"(nextWindDirectionDegrees-WindDirectionDegrees)%360\")) \\\n",
    "#    .withColumn(\"p540\",expr(\"((nextWindDirectionDegrees-WindDirectionDegrees)%360)+540\")) \\\n",
    "#    .withColumn(\"mod2\",expr(\"(((nextWindDirectionDegrees-WindDirectionDegrees)%360)+540)%360\")) \\"
   ]
  },
  {
   "cell_type": "markdown",
   "metadata": {},
   "source": [
    "#### Calculating Slopes and Intercept for Linear Equations\n",
    "\n",
    "For linear interpolation we have to get a line:\n",
    "\n",
    "f(t) = m*t + b\n",
    "\n",
    "We need to calculate those values given the current and next (reading,timestamp) pair\n",
    "\n",
    "\"\"\"\n",
    "    .withColumn(\"m\",\n",
    "      expr(\"nextWindSpeedMPH-WindSpeedMPH\")\n",
    "        /(col(\"nextTSEpochSec\").cast(\"long\")-col(\"TSEpochSec\").cast(\"long\"))\n",
    "    ) \\\n",
    "    .withColumn(\"b\",\n",
    "      (col(\"TSEpochSec\").cast(\"long\")*col(\"nextWindSpeedMPH\")-col(\"nextTSEpochSec\").cast(\"long\")*col(\"WindSpeedMPH\"))\n",
    "        /(col(\"TSEpochSec\").cast(\"long\")-col(\"nextTSEpochSec\").cast(\"long\"))\n",
    "    )\n",
    "\"\"\""
   ]
  },
  {
   "cell_type": "code",
   "execution_count": null,
   "metadata": {},
   "outputs": [],
   "source": [
    "# Custom Column functions to calculate slope and intercept\n",
    "def slopeExpr(x1,y1,x2,y2) :\n",
    "    return (\n",
    "        (y2-y1) \n",
    "        /(x2-x1)\n",
    "    )\n",
    "\n",
    "def interceptExpr(x1,y1,x2,y2) :\n",
    "    return (\n",
    "      (x1*y2-x2*y1)\n",
    "        /(x1-x2)\n",
    "    )\n",
    "\n",
    "windLinearDF = windPairFixDirDF \\\n",
    "    .withColumn(\"mSpeed\",\n",
    "                slopeExpr(col(\"TSEpochSec\"),col(\"WindSpeedMPH\"),col(\"nextTSEpochSec\"),col(\"nextWindSpeedMPH\"))) \\\n",
    "    .withColumn(\"bSpeed\",\n",
    "                interceptExpr(col(\"TSEpochSec\"),col(\"WindSpeedMPH\"),col(\"nextTSEpochSec\"),col(\"nextWindSpeedMPH\"))) \\\n",
    "    .withColumn(\"mDir\",\n",
    "                slopeExpr(col(\"TSEpochSec\"),col(\"WindDirectionDegrees\"),col(\"nextTSEpochSec\"),col(\"neShortWindDirectionDegrees\"))) \\\n",
    "    .withColumn(\"bDir\",\n",
    "                interceptExpr(col(\"TSEpochSec\"),col(\"WindDirectionDegrees\"),col(\"nextTSEpochSec\"),col(\"neShortWindDirectionDegrees\"))) \\\n",
    "\n",
    "\n",
    "\n",
    "\"\"\"\n",
    "    .withColumn(\"m\",\n",
    "      (col(\"nextWindSpeedMPH\")-col(\"WindSpeedMPH\"))\n",
    "        /(col(\"nextTSEpochSec\")-col(\"TSEpochSec\"))\n",
    "    ) \\\n",
    "    .withColumn(\"b\",\n",
    "      (col(\"TSEpochSec\")*col(\"nextWindSpeedMPH\")-col(\"nextTSEpochSec\")*col(\"WindSpeedMPH\"))\n",
    "        /(col(\"TSEpochSec\")-col(\"nextTSEpochSec\"))\n",
    "    )\n",
    "\"\"\"\n",
    "\n",
    "\"\"\"\n",
    "    .withColumn(\"m\", lit(0)) \\\n",
    "    .withColumn(\"b\",col(\"WindSpeedMPH\"))\n",
    "\"\"\"\n",
    "\n",
    "\"\"\"\n",
    "    .withColumn(\"m\",\n",
    "      expr(\"nextWindSpeedMPH-WindSpeedMPH\")\n",
    "        /(col(\"nextTSEpochSec\").cast(\"long\")-col(\"TSEpochSec\").cast(\"long\"))\n",
    "    ) \\\n",
    "    .withColumn(\"b\",\n",
    "      (col(\"TSEpochSec\").cast(\"long\")*col(\"nextWindSpeedMPH\")-col(\"nextTSEpochSec\").cast(\"long\")*col(\"WindSpeedMPH\"))\n",
    "        /(col(\"TSEpochSec\").cast(\"long\")-col(\"nextTSEpochSec\").cast(\"long\"))\n",
    "    )\n",
    "\"\"\"\n",
    "\n",
    "windLinearDF.show(100)"
   ]
  },
  {
   "cell_type": "code",
   "execution_count": 29,
   "metadata": {},
   "outputs": [
    {
     "data": {
      "text/plain": [
       "False"
      ]
     },
     "execution_count": 29,
     "metadata": {},
     "output_type": "execute_result"
    }
   ],
   "source": [
    "#(spark.version) >= '2.13.1'\n",
    "from distutils.version import StrictVersion\n",
    "StrictVersion(spark.version) >= StrictVersion('2.4.0')\n",
    "#(spark.version) >= '2.13.1'"
   ]
  },
  {
   "cell_type": "markdown",
   "metadata": {},
   "source": [
    "#### Range UDF to Create The Resampling\n",
    "\n",
    "We will need help from a UDF and "
   ]
  },
  {
   "cell_type": "code",
   "execution_count": null,
   "metadata": {},
   "outputs": [],
   "source": [
    "from pyspark.sql.types import ArrayType, LongType\n",
    "#def inter5Range(tsX:Timestamp,tsY:Timestamp) : Seq[Timestamp] = {\n",
    "  #  val FIVE_MINUTES_IN_MILLIS : Long = 5*60*1000;//millisecs\n",
    "  #  val x = tsX.getTime()\n",
    "  #  val y = tsY.getTime()\n",
    "  #  (((x+FIVE_MINUTES_IN_MILLIS-1)/FIVE_MINUTES_IN_MILLIS)*FIVE_MINUTES_IN_MILLIS to (y-1) by FIVE_MINUTES_IN_MILLIS).map(new Timestamp(_))\n",
    "  #}\n",
    "\n",
    "def epoch5MinRange(epochSecStart, epochSecEnd) :\n",
    "    FIVE_MINUTES_IN_SECS = 5*60 # Seconds\n",
    "    # range doesn't include the end\n",
    "    #[x for x in range( ((start+five-1)//five)*five ,end,five)]\n",
    "    #return (epochSecEnd-epochSecStart)\n",
    "    #return 100\n",
    "    return list(range(\n",
    "        ((epochSecStart+FIVE_MINUTES_IN_SECS-1)//FIVE_MINUTES_IN_SECS)*FIVE_MINUTES_IN_SECS,\n",
    "        epochSecEnd,\n",
    "        FIVE_MINUTES_IN_SECS))\n",
    "\n",
    "epoch5MinRangeUdf = udf(epoch5MinRange,ArrayType(LongType()))\n",
    "#epoch5MinRangeUdf = udf(epoch5MinRange)\n",
    "\n",
    "\n",
    "#list(epoch5MinRange(1483164120,1483164720))\n",
    "\n",
    "arrDF = windLinearDF.withColumn(\"range\",epoch5MinRangeUdf(col(\"TSEpochSec\"),col(\"nextTSEpochSec\")))\n",
    "#arrDF.printSchema()\n",
    "#arrDF.show()\n",
    "expDF = arrDF \\\n",
    "    .withColumn(\"interTSEpochSec\",explode(col(\"range\"))) \\\n",
    "    .withColumn(\"interWindSpeedMPH\",expr(\"(interTSEpochSec * mSpeed) + bSpeed\"))\n",
    "#expDF.show()\n",
    "#windLinearDF.withColumn(\"range\",(col(\"TSEpochSec\")-col(\"nextTSEpochSec\"))).show()\n",
    "\n",
    "#cleanDF = expDF.selectExpr(\"Time\",\"TS\",\"cast(TSEpochSec as timestamp)\")\n",
    "#cleanDF.printSchema()\n",
    "#cleanDF.show(100)\n",
    "\n",
    "#cleanDF = expDF.selectExpr(\"Time\",\"TS\",\"cast(TSEpochSec as timestamp)\")\n",
    "\n",
    "#windExtractDF = expDF.selectExpr(\"Date as LocalDate\",\"cast(interTSEpochSec as timestamp) AS Time\",\"interWindSpeedMPH\",\"TS\",\"WindSpeedMPH\")\n",
    "\n",
    "windExtractDF = expDF.selectExpr(\"Date as LocalDate\",\"cast(interTSEpochSec as timestamp) AS Time\",\"interWindSpeedMPH\")\n",
    "windExtractDF.show(100)\n",
    "\n",
    "#windExtractDF.coalesce(1).write.option(\"header\",\"true\").csv(\"output\")\n",
    "windExtractDF.sort(\"Time\").coalesce(1).write.option(\"header\",\"true\").csv(\"output\")"
   ]
  }
 ],
 "metadata": {
  "kernelspec": {
   "display_name": "Python 3",
   "language": "python",
   "name": "python3"
  },
  "language_info": {
   "codemirror_mode": {
    "name": "ipython",
    "version": 3
   },
   "file_extension": ".py",
   "mimetype": "text/x-python",
   "name": "python",
   "nbconvert_exporter": "python",
   "pygments_lexer": "ipython3",
   "version": "3.7.0"
  }
 },
 "nbformat": 4,
 "nbformat_minor": 2
}
