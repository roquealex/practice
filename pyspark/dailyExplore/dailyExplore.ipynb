{
 "cells": [
  {
   "cell_type": "markdown",
   "metadata": {},
   "source": [
    "## Basic Exploration of the Daily Dataset\n",
    "\n",
    "The objective of this notebook is to find problems in the data set of daily history and posible cleaup strategies before doing the full analysis.\n",
    "\n",
    "### Reading the dataset\n",
    "\n",
    "The data set is saved in a hierarchical maner having independent directories for year and subdirectories for each month."
   ]
  },
  {
   "cell_type": "code",
   "execution_count": 3,
   "metadata": {},
   "outputs": [
    {
     "data": {
      "text/plain": [
       "DatetimeIndex(['2016-01-01 00:00:00-06:00', '2016-02-01 00:00:00-06:00',\n",
       "               '2016-03-01 00:00:00-06:00', '2016-04-01 00:00:00-06:00',\n",
       "               '2016-05-01 00:00:00-05:00', '2016-06-01 00:00:00-05:00',\n",
       "               '2016-07-01 00:00:00-05:00', '2016-08-01 00:00:00-05:00',\n",
       "               '2016-09-01 00:00:00-05:00', '2016-10-01 00:00:00-05:00',\n",
       "               '2016-11-01 00:00:00-06:00', '2016-12-01 00:00:00-06:00'],\n",
       "              dtype='datetime64[ns, America/Merida]', freq='MS')"
      ]
     },
     "execution_count": 3,
     "metadata": {},
     "output_type": "execute_result"
    }
   ],
   "source": [
    "import pandas as pd\n",
    "\n",
    "currentTz = 'America/Merida'\n",
    "\n",
    "# Changing the default timezone for the analysis\n",
    "#spark.conf.set(\"spark.sql.session.timeZone\", currentTz)\n",
    "\n",
    "pd.date_range(start='2016-01',end='2016-12',freq='MS',tz=currentTz)\n",
    "\n"
   ]
  }
 ],
 "metadata": {
  "kernelspec": {
   "display_name": "Python 3",
   "language": "python",
   "name": "python3"
  },
  "language_info": {
   "codemirror_mode": {
    "name": "ipython",
    "version": 3
   },
   "file_extension": ".py",
   "mimetype": "text/x-python",
   "name": "python",
   "nbconvert_exporter": "python",
   "pygments_lexer": "ipython3",
   "version": "3.7.0"
  }
 },
 "nbformat": 4,
 "nbformat_minor": 2
}
